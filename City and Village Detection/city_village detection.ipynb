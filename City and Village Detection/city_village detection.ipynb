{
 "cells": [
  {
   "cell_type": "code",
   "execution_count": 1,
   "id": "f3a97776",
   "metadata": {},
   "outputs": [],
   "source": [
    "import numpy as np\n",
    "import pandas as pd\n",
    "from warnings import filterwarnings\n",
    "filterwarnings(\"ignore\")\n",
    "import os\n",
    "import cv2"
   ]
  },
  {
   "cell_type": "code",
   "execution_count": 2,
   "id": "5fcd89e3",
   "metadata": {},
   "outputs": [],
   "source": [
    "Type = [\"city\",\"village\"]"
   ]
  },
  {
   "cell_type": "code",
   "execution_count": 3,
   "id": "3b6990a3",
   "metadata": {},
   "outputs": [],
   "source": [
    "data = []\n",
    "for i in Type:\n",
    "    path = os.path.join('train',i)\n",
    "    label = Type.index(i)\n",
    "    \n",
    "    for file in os.listdir(path):\n",
    "        \n",
    "        img_path = os.path.join(path,file) \n",
    "        img = cv2.imread(img_path)\n",
    "        img = cv2.resize(img,(30,30))\n",
    "        data.append([img,label])\n",
    "        "
   ]
  },
  {
   "cell_type": "code",
   "execution_count": 4,
   "id": "6f38249a",
   "metadata": {},
   "outputs": [
    {
     "data": {
      "text/plain": [
       "40"
      ]
     },
     "execution_count": 4,
     "metadata": {},
     "output_type": "execute_result"
    }
   ],
   "source": [
    "len(data)"
   ]
  },
  {
   "cell_type": "code",
   "execution_count": 5,
   "id": "29127d55",
   "metadata": {},
   "outputs": [],
   "source": [
    "import random"
   ]
  },
  {
   "cell_type": "code",
   "execution_count": 6,
   "id": "a9167525",
   "metadata": {},
   "outputs": [],
   "source": [
    "random.shuffle(data)"
   ]
  },
  {
   "cell_type": "code",
   "execution_count": 8,
   "id": "906a04e2",
   "metadata": {},
   "outputs": [],
   "source": [
    "X = []\n",
    "Y = []\n",
    "\n",
    "for features,label in data:\n",
    "    X.append(features)\n",
    "    Y.append(label)"
   ]
  },
  {
   "cell_type": "code",
   "execution_count": 9,
   "id": "c512462c",
   "metadata": {},
   "outputs": [],
   "source": [
    "X = np.array(X)\n",
    "Y = np.array(Y)"
   ]
  },
  {
   "cell_type": "code",
   "execution_count": 10,
   "id": "6c1c295c",
   "metadata": {},
   "outputs": [],
   "source": [
    "from sklearn.model_selection import train_test_split\n",
    "xtrain,xtest,ytrain,ytest = train_test_split(X,Y,test_size=0.2,random_state=21)"
   ]
  },
  {
   "cell_type": "code",
   "execution_count": 11,
   "id": "0db7e5fe",
   "metadata": {},
   "outputs": [
    {
     "name": "stdout",
     "output_type": "stream",
     "text": [
      "xtrain shape (32, 30, 30, 3)\n",
      "xtest shape (8, 30, 30, 3)\n",
      "(32,)\n",
      "(8,)\n"
     ]
    }
   ],
   "source": [
    "print(\"xtrain shape\",xtrain.shape)\n",
    "print(\"xtest shape\",xtest.shape)\n",
    "print(ytrain.shape)\n",
    "print(ytest.shape)"
   ]
  },
  {
   "cell_type": "code",
   "execution_count": 17,
   "id": "cefe306f",
   "metadata": {},
   "outputs": [],
   "source": [
    "from keras.utils import to_categorical"
   ]
  },
  {
   "cell_type": "code",
   "execution_count": 21,
   "id": "82ec7c9f",
   "metadata": {},
   "outputs": [],
   "source": [
    "ytrain = to_categorical(ytrain,2)\n",
    "ytest = to_categorical(ytest,2)"
   ]
  },
  {
   "cell_type": "code",
   "execution_count": 29,
   "id": "30448e89",
   "metadata": {},
   "outputs": [],
   "source": [
    "from keras.models import Sequential\n",
    "from keras.layers import Dense,Conv2D,MaxPooling2D,Dropout,Flatten,BatchNormalization"
   ]
  },
  {
   "cell_type": "code",
   "execution_count": 30,
   "id": "61668675",
   "metadata": {},
   "outputs": [],
   "source": [
    "model = Sequential()\n",
    "model.add(Conv2D(32, (3, 3), activation='relu', input_shape=xtrain.shape[1:]))\n",
    "model.add(MaxPooling2D((2, 2)))\n",
    "model.add(BatchNormalization())\n",
    "model.add(Dropout(0.2))\n",
    "\n",
    "model.add(Conv2D(64, (3, 3), activation='relu'))\n",
    "model.add(MaxPooling2D((2, 2)))\n",
    "model.add(BatchNormalization())\n",
    "model.add(Dropout(0.2))\n",
    "\n",
    "model.add(Conv2D(64, (3, 3), activation='relu'))\n",
    "model.add(MaxPooling2D((2, 2)))\n",
    "model.add(BatchNormalization())\n",
    "model.add(Dropout(0.2))\n",
    "\n",
    "model.add(Flatten())\n",
    "model.add(Dense(2,activation=\"softmax\"))"
   ]
  },
  {
   "cell_type": "code",
   "execution_count": 31,
   "id": "732911f9",
   "metadata": {},
   "outputs": [
    {
     "name": "stdout",
     "output_type": "stream",
     "text": [
      "Epoch 1/6\n",
      "1/1 [==============================] - 2s 2s/step - loss: 0.8353 - accuracy: 0.5625 - val_loss: 2.5178 - val_accuracy: 0.2500\n",
      "Epoch 2/6\n",
      "1/1 [==============================] - 0s 175ms/step - loss: 0.3197 - accuracy: 0.8438 - val_loss: 1.6984 - val_accuracy: 0.5000\n",
      "Epoch 3/6\n",
      "1/1 [==============================] - 0s 131ms/step - loss: 0.2439 - accuracy: 0.8438 - val_loss: 1.5302 - val_accuracy: 0.5000\n",
      "Epoch 4/6\n",
      "1/1 [==============================] - 0s 171ms/step - loss: 0.1409 - accuracy: 0.9688 - val_loss: 1.5029 - val_accuracy: 0.5000\n",
      "Epoch 5/6\n",
      "1/1 [==============================] - 0s 157ms/step - loss: 0.1076 - accuracy: 0.9375 - val_loss: 1.3826 - val_accuracy: 0.5000\n",
      "Epoch 6/6\n",
      "1/1 [==============================] - 0s 133ms/step - loss: 0.0445 - accuracy: 1.0000 - val_loss: 1.4187 - val_accuracy: 0.5000\n"
     ]
    },
    {
     "data": {
      "text/plain": [
       "<keras.callbacks.History at 0x23ae4c16260>"
      ]
     },
     "execution_count": 31,
     "metadata": {},
     "output_type": "execute_result"
    }
   ],
   "source": [
    "model.compile(optimizer=\"adam\",loss=\"categorical_crossentropy\",metrics=\"accuracy\")\n",
    "model.fit(xtrain,ytrain,validation_data=(xtest,ytest),epochs=6,batch_size=60)"
   ]
  },
  {
   "cell_type": "code",
   "execution_count": 144,
   "id": "420aa83b",
   "metadata": {},
   "outputs": [],
   "source": [
    "r_val = []\n",
    "tp = [\"city\"]\n",
    "for i in tp:\n",
    "    path = os.path.join('test',i)\n",
    "    label = Type.index(i)\n",
    "    \n",
    "    for file in os.listdir(path):\n",
    "        \n",
    "        img_path = os.path.join(path,file) \n",
    "        img = cv2.imread(img_path)\n",
    "        img = cv2.resize(img,(30,30))\n",
    "        r_val.append([img,label])\n",
    "        "
   ]
  },
  {
   "cell_type": "code",
   "execution_count": 145,
   "id": "0dc897b0",
   "metadata": {},
   "outputs": [],
   "source": [
    "Xtest = []\n",
    "Ytest = []\n",
    "\n",
    "for features,label in r_val:\n",
    "    Xtest.append(features)\n",
    "    Ytest.append(label)"
   ]
  },
  {
   "cell_type": "code",
   "execution_count": 146,
   "id": "1697efa8",
   "metadata": {},
   "outputs": [],
   "source": [
    "Xtest = np.array(Xtest)"
   ]
  },
  {
   "cell_type": "code",
   "execution_count": 147,
   "id": "802c3e3f",
   "metadata": {},
   "outputs": [],
   "source": [
    "dk = r_val[0][0]"
   ]
  },
  {
   "cell_type": "code",
   "execution_count": 148,
   "id": "edb20352",
   "metadata": {},
   "outputs": [
    {
     "name": "stdout",
     "output_type": "stream",
     "text": [
      "1/1 [==============================] - 0s 30ms/step\n"
     ]
    }
   ],
   "source": [
    "luci = model.predict(Xtest)[0][0]"
   ]
  },
  {
   "cell_type": "code",
   "execution_count": 149,
   "id": "43bd168b",
   "metadata": {},
   "outputs": [
    {
     "name": "stdout",
     "output_type": "stream",
     "text": [
      "Its a City\n"
     ]
    }
   ],
   "source": [
    "if(luci >= float(0.8)):\n",
    "    print(\"Its a City\")\n",
    "else:\n",
    "    print(\"Village\")"
   ]
  },
  {
   "cell_type": "code",
   "execution_count": 200,
   "id": "d5d3e250",
   "metadata": {},
   "outputs": [],
   "source": [
    "k1 =  cv2.imread('cit.jpg')\n",
    "k2 = cv2.resize(k1,(30,30))"
   ]
  },
  {
   "cell_type": "code",
   "execution_count": null,
   "id": "5d9dbd62",
   "metadata": {},
   "outputs": [],
   "source": []
  },
  {
   "cell_type": "code",
   "execution_count": 193,
   "id": "ac2fbcbc",
   "metadata": {},
   "outputs": [],
   "source": [
    "k3 = np.array(k2)"
   ]
  },
  {
   "cell_type": "code",
   "execution_count": 203,
   "id": "e1fc54df",
   "metadata": {},
   "outputs": [],
   "source": [
    "bks = k3.reshape(1,30,30,3)"
   ]
  },
  {
   "cell_type": "code",
   "execution_count": 206,
   "id": "b1c6f374",
   "metadata": {},
   "outputs": [
    {
     "name": "stdout",
     "output_type": "stream",
     "text": [
      "1/1 [==============================] - 0s 78ms/step\n"
     ]
    },
    {
     "data": {
      "text/plain": [
       "0.9987155"
      ]
     },
     "execution_count": 206,
     "metadata": {},
     "output_type": "execute_result"
    }
   ],
   "source": [
    "model.predict(bks)[0][0]"
   ]
  },
  {
   "cell_type": "code",
   "execution_count": 208,
   "id": "a1e488cd",
   "metadata": {},
   "outputs": [],
   "source": [
    "import pickle"
   ]
  },
  {
   "cell_type": "code",
   "execution_count": 209,
   "id": "0f6b5d30",
   "metadata": {},
   "outputs": [
    {
     "name": "stderr",
     "output_type": "stream",
     "text": [
      "WARNING:absl:Found untraced functions such as _jit_compiled_convolution_op, _jit_compiled_convolution_op, _jit_compiled_convolution_op while saving (showing 3 of 3). These functions will not be directly callable after loading.\n"
     ]
    },
    {
     "name": "stdout",
     "output_type": "stream",
     "text": [
      "INFO:tensorflow:Assets written to: ram://f8abb15d-0db4-4ba4-be2a-d5897b8b02b6/assets\n"
     ]
    },
    {
     "name": "stderr",
     "output_type": "stream",
     "text": [
      "INFO:tensorflow:Assets written to: ram://f8abb15d-0db4-4ba4-be2a-d5897b8b02b6/assets\n"
     ]
    }
   ],
   "source": [
    "pickle.dump(model,open('nn_model.pkl','wb'))"
   ]
  },
  {
   "cell_type": "code",
   "execution_count": 210,
   "id": "e6cce406",
   "metadata": {},
   "outputs": [],
   "source": [
    "model.save('model.h5')"
   ]
  },
  {
   "cell_type": "code",
   "execution_count": null,
   "id": "e4c04058",
   "metadata": {},
   "outputs": [],
   "source": []
  }
 ],
 "metadata": {
  "kernelspec": {
   "display_name": "Python 3 (ipykernel)",
   "language": "python",
   "name": "python3"
  },
  "language_info": {
   "codemirror_mode": {
    "name": "ipython",
    "version": 3
   },
   "file_extension": ".py",
   "mimetype": "text/x-python",
   "name": "python",
   "nbconvert_exporter": "python",
   "pygments_lexer": "ipython3",
   "version": "3.10.5"
  }
 },
 "nbformat": 4,
 "nbformat_minor": 5
}
