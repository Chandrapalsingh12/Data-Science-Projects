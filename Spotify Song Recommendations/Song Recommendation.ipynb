{
 "cells": [
  {
   "cell_type": "markdown",
   "id": "7d3ce5f6",
   "metadata": {},
   "source": [
    "# Import Packages"
   ]
  },
  {
   "cell_type": "code",
   "execution_count": 6,
   "id": "6185e68b",
   "metadata": {},
   "outputs": [],
   "source": [
    "import numpy as np\n",
    "import pandas as pd\n",
    "from warnings import filterwarnings\n",
    "filterwarnings(\"ignore\")\n",
    "from re import sub"
   ]
  },
  {
   "cell_type": "code",
   "execution_count": 7,
   "id": "89f44db8",
   "metadata": {},
   "outputs": [],
   "source": [
    "A = pd.read_csv(\"D:/DataSet/csvdata/spotify.csv\")\n",
    "pd.set_option(\"display.max_columns\",24)"
   ]
  },
  {
   "cell_type": "code",
   "execution_count": 8,
   "id": "a2a37bce",
   "metadata": {},
   "outputs": [
    {
     "data": {
      "text/html": [
       "<div>\n",
       "<style scoped>\n",
       "    .dataframe tbody tr th:only-of-type {\n",
       "        vertical-align: middle;\n",
       "    }\n",
       "\n",
       "    .dataframe tbody tr th {\n",
       "        vertical-align: top;\n",
       "    }\n",
       "\n",
       "    .dataframe thead th {\n",
       "        text-align: right;\n",
       "    }\n",
       "</style>\n",
       "<table border=\"1\" class=\"dataframe\">\n",
       "  <thead>\n",
       "    <tr style=\"text-align: right;\">\n",
       "      <th></th>\n",
       "      <th>track_id</th>\n",
       "      <th>track_name</th>\n",
       "      <th>track_artist</th>\n",
       "      <th>track_popularity</th>\n",
       "      <th>track_album_id</th>\n",
       "      <th>track_album_name</th>\n",
       "      <th>track_album_release_date</th>\n",
       "      <th>playlist_name</th>\n",
       "      <th>playlist_id</th>\n",
       "      <th>playlist_genre</th>\n",
       "      <th>playlist_subgenre</th>\n",
       "      <th>danceability</th>\n",
       "      <th>energy</th>\n",
       "      <th>key</th>\n",
       "      <th>loudness</th>\n",
       "      <th>mode</th>\n",
       "      <th>speechiness</th>\n",
       "      <th>acousticness</th>\n",
       "      <th>instrumentalness</th>\n",
       "      <th>liveness</th>\n",
       "      <th>valence</th>\n",
       "      <th>tempo</th>\n",
       "      <th>duration_ms</th>\n",
       "    </tr>\n",
       "  </thead>\n",
       "  <tbody>\n",
       "    <tr>\n",
       "      <th>21434</th>\n",
       "      <td>5hDAT527wXWNBnJlujhuUs</td>\n",
       "      <td>Stuck In A Dream (feat. Gunna)</td>\n",
       "      <td>Lil Mosey</td>\n",
       "      <td>64</td>\n",
       "      <td>5uSX6qtcBrqNOWBloxl6vr</td>\n",
       "      <td>Stuck In A Dream (feat. Gunna)</td>\n",
       "      <td>2019-09-17</td>\n",
       "      <td>New Hip Hop‏‏​​   ‍</td>\n",
       "      <td>5WNUX6jisX0NRlVDTm6RDd</td>\n",
       "      <td>r&amp;b</td>\n",
       "      <td>urban contemporary</td>\n",
       "      <td>0.753</td>\n",
       "      <td>0.652</td>\n",
       "      <td>10</td>\n",
       "      <td>-5.943</td>\n",
       "      <td>0</td>\n",
       "      <td>0.0753</td>\n",
       "      <td>0.4440</td>\n",
       "      <td>0.00000</td>\n",
       "      <td>0.1170</td>\n",
       "      <td>0.745</td>\n",
       "      <td>139.962</td>\n",
       "      <td>123560</td>\n",
       "    </tr>\n",
       "    <tr>\n",
       "      <th>27408</th>\n",
       "      <td>6kK2YbF8boQl32Lqkai3Ca</td>\n",
       "      <td>All Night</td>\n",
       "      <td>Parov Stelar</td>\n",
       "      <td>56</td>\n",
       "      <td>4TEZiXCLTfPn5KJFrQgl7k</td>\n",
       "      <td>The Art Of Sampling (Deluxe Version)</td>\n",
       "      <td>2013-01-01</td>\n",
       "      <td>Electro Swing</td>\n",
       "      <td>3Dr4NKbsFQ2m7tmPxGRroO</td>\n",
       "      <td>edm</td>\n",
       "      <td>electro house</td>\n",
       "      <td>0.797</td>\n",
       "      <td>0.618</td>\n",
       "      <td>7</td>\n",
       "      <td>-7.672</td>\n",
       "      <td>0</td>\n",
       "      <td>0.0429</td>\n",
       "      <td>0.1070</td>\n",
       "      <td>0.84500</td>\n",
       "      <td>0.2430</td>\n",
       "      <td>0.826</td>\n",
       "      <td>125.020</td>\n",
       "      <td>166400</td>\n",
       "    </tr>\n",
       "    <tr>\n",
       "      <th>22931</th>\n",
       "      <td>58ASzIQ5TBNQuAvCOZorjF</td>\n",
       "      <td>Hard Boy</td>\n",
       "      <td>Frawley</td>\n",
       "      <td>60</td>\n",
       "      <td>4orFYFFPPT0XPqDSehtseF</td>\n",
       "      <td>Hard Boy</td>\n",
       "      <td>2019-05-03</td>\n",
       "      <td>Pop Hits 2020</td>\n",
       "      <td>5TDtuKDbOhrfW7C58XnriZ</td>\n",
       "      <td>r&amp;b</td>\n",
       "      <td>hip pop</td>\n",
       "      <td>0.516</td>\n",
       "      <td>0.825</td>\n",
       "      <td>4</td>\n",
       "      <td>-3.209</td>\n",
       "      <td>1</td>\n",
       "      <td>0.1470</td>\n",
       "      <td>0.1880</td>\n",
       "      <td>0.00000</td>\n",
       "      <td>0.1650</td>\n",
       "      <td>0.424</td>\n",
       "      <td>180.006</td>\n",
       "      <td>192347</td>\n",
       "    </tr>\n",
       "    <tr>\n",
       "      <th>21688</th>\n",
       "      <td>2GrlOwUh3bzEu4ajApV4Zy</td>\n",
       "      <td>Chocolate</td>\n",
       "      <td>Jova'e Nicole</td>\n",
       "      <td>22</td>\n",
       "      <td>7GV3XL5cHJhhpk86JfhKrY</td>\n",
       "      <td>Chocolate</td>\n",
       "      <td>2019-03-20</td>\n",
       "      <td>Top Urban Underground</td>\n",
       "      <td>4Gc9TFxlqmoe50m9Yy78ei</td>\n",
       "      <td>r&amp;b</td>\n",
       "      <td>urban contemporary</td>\n",
       "      <td>0.905</td>\n",
       "      <td>0.565</td>\n",
       "      <td>1</td>\n",
       "      <td>-10.252</td>\n",
       "      <td>1</td>\n",
       "      <td>0.4140</td>\n",
       "      <td>0.1070</td>\n",
       "      <td>0.00000</td>\n",
       "      <td>0.0644</td>\n",
       "      <td>0.550</td>\n",
       "      <td>147.022</td>\n",
       "      <td>212976</td>\n",
       "    </tr>\n",
       "    <tr>\n",
       "      <th>18892</th>\n",
       "      <td>2z1ACAitQVTvo1ynh7EtAd</td>\n",
       "      <td>Yo Tengo una Gata</td>\n",
       "      <td>Ozuna</td>\n",
       "      <td>67</td>\n",
       "      <td>7f6r6ijWtMJ0QYydwuCYvH</td>\n",
       "      <td>Nibiru</td>\n",
       "      <td>2019-11-29</td>\n",
       "      <td>Reggaeton 2020 ☀</td>\n",
       "      <td>7xWuNevFBmwnFEg6wzdCc7</td>\n",
       "      <td>latin</td>\n",
       "      <td>reggaeton</td>\n",
       "      <td>0.770</td>\n",
       "      <td>0.632</td>\n",
       "      <td>5</td>\n",
       "      <td>-4.770</td>\n",
       "      <td>0</td>\n",
       "      <td>0.2270</td>\n",
       "      <td>0.0465</td>\n",
       "      <td>0.00937</td>\n",
       "      <td>0.1750</td>\n",
       "      <td>0.819</td>\n",
       "      <td>184.073</td>\n",
       "      <td>184733</td>\n",
       "    </tr>\n",
       "  </tbody>\n",
       "</table>\n",
       "</div>"
      ],
      "text/plain": [
       "                     track_id                      track_name   track_artist  \\\n",
       "21434  5hDAT527wXWNBnJlujhuUs  Stuck In A Dream (feat. Gunna)      Lil Mosey   \n",
       "27408  6kK2YbF8boQl32Lqkai3Ca                       All Night   Parov Stelar   \n",
       "22931  58ASzIQ5TBNQuAvCOZorjF                        Hard Boy        Frawley   \n",
       "21688  2GrlOwUh3bzEu4ajApV4Zy                       Chocolate  Jova'e Nicole   \n",
       "18892  2z1ACAitQVTvo1ynh7EtAd               Yo Tengo una Gata          Ozuna   \n",
       "\n",
       "       track_popularity          track_album_id  \\\n",
       "21434                64  5uSX6qtcBrqNOWBloxl6vr   \n",
       "27408                56  4TEZiXCLTfPn5KJFrQgl7k   \n",
       "22931                60  4orFYFFPPT0XPqDSehtseF   \n",
       "21688                22  7GV3XL5cHJhhpk86JfhKrY   \n",
       "18892                67  7f6r6ijWtMJ0QYydwuCYvH   \n",
       "\n",
       "                           track_album_name track_album_release_date  \\\n",
       "21434        Stuck In A Dream (feat. Gunna)               2019-09-17   \n",
       "27408  The Art Of Sampling (Deluxe Version)               2013-01-01   \n",
       "22931                              Hard Boy               2019-05-03   \n",
       "21688                             Chocolate               2019-03-20   \n",
       "18892                                Nibiru               2019-11-29   \n",
       "\n",
       "               playlist_name             playlist_id playlist_genre  \\\n",
       "21434    New Hip Hop‏‏​​   ‍  5WNUX6jisX0NRlVDTm6RDd            r&b   \n",
       "27408          Electro Swing  3Dr4NKbsFQ2m7tmPxGRroO            edm   \n",
       "22931          Pop Hits 2020  5TDtuKDbOhrfW7C58XnriZ            r&b   \n",
       "21688  Top Urban Underground  4Gc9TFxlqmoe50m9Yy78ei            r&b   \n",
       "18892       Reggaeton 2020 ☀  7xWuNevFBmwnFEg6wzdCc7          latin   \n",
       "\n",
       "        playlist_subgenre  danceability  energy  key  loudness  mode  \\\n",
       "21434  urban contemporary         0.753   0.652   10    -5.943     0   \n",
       "27408       electro house         0.797   0.618    7    -7.672     0   \n",
       "22931             hip pop         0.516   0.825    4    -3.209     1   \n",
       "21688  urban contemporary         0.905   0.565    1   -10.252     1   \n",
       "18892           reggaeton         0.770   0.632    5    -4.770     0   \n",
       "\n",
       "       speechiness  acousticness  instrumentalness  liveness  valence  \\\n",
       "21434       0.0753        0.4440           0.00000    0.1170    0.745   \n",
       "27408       0.0429        0.1070           0.84500    0.2430    0.826   \n",
       "22931       0.1470        0.1880           0.00000    0.1650    0.424   \n",
       "21688       0.4140        0.1070           0.00000    0.0644    0.550   \n",
       "18892       0.2270        0.0465           0.00937    0.1750    0.819   \n",
       "\n",
       "         tempo  duration_ms  \n",
       "21434  139.962       123560  \n",
       "27408  125.020       166400  \n",
       "22931  180.006       192347  \n",
       "21688  147.022       212976  \n",
       "18892  184.073       184733  "
      ]
     },
     "execution_count": 8,
     "metadata": {},
     "output_type": "execute_result"
    }
   ],
   "source": [
    "A.sample(5)"
   ]
  },
  {
   "cell_type": "markdown",
   "id": "0864325b",
   "metadata": {},
   "source": [
    "# EDA"
   ]
  },
  {
   "cell_type": "code",
   "execution_count": 9,
   "id": "79b5c0d4",
   "metadata": {},
   "outputs": [],
   "source": [
    "# track_name\n",
    "# track_artist\n",
    "# track_album_name\n",
    "# playlist_name\n",
    "# playlist_genre\n",
    "# playlist_subgenre"
   ]
  },
  {
   "cell_type": "code",
   "execution_count": 10,
   "id": "1ab5de87",
   "metadata": {},
   "outputs": [],
   "source": [
    "df = A[['track_id','track_album_id','playlist_id','track_name','track_artist','track_album_name','playlist_name','playlist_genre','playlist_subgenre']]"
   ]
  },
  {
   "cell_type": "code",
   "execution_count": 11,
   "id": "36214341",
   "metadata": {},
   "outputs": [
    {
     "data": {
      "text/plain": [
       "\"I Don't Care (with Justin Bieber) - Loud Luxury Remix\""
      ]
     },
     "execution_count": 11,
     "metadata": {},
     "output_type": "execute_result"
    }
   ],
   "source": [
    "df.track_name[0]"
   ]
  },
  {
   "cell_type": "code",
   "execution_count": 12,
   "id": "2ebcab16",
   "metadata": {},
   "outputs": [
    {
     "data": {
      "text/plain": [
       "'Ed Sheeran'"
      ]
     },
     "execution_count": 12,
     "metadata": {},
     "output_type": "execute_result"
    }
   ],
   "source": [
    "df.track_artist[0]"
   ]
  },
  {
   "cell_type": "code",
   "execution_count": 13,
   "id": "5ac3a586",
   "metadata": {},
   "outputs": [
    {
     "data": {
      "text/plain": [
       "\"I Don't Care (with Justin Bieber) [Loud Luxury Remix]\""
      ]
     },
     "execution_count": 13,
     "metadata": {},
     "output_type": "execute_result"
    }
   ],
   "source": [
    "df.track_album_name[0]"
   ]
  },
  {
   "cell_type": "code",
   "execution_count": 14,
   "id": "89fba490",
   "metadata": {},
   "outputs": [
    {
     "data": {
      "text/plain": [
       "track_id             0\n",
       "track_album_id       0\n",
       "playlist_id          0\n",
       "track_name           5\n",
       "track_artist         5\n",
       "track_album_name     5\n",
       "playlist_name        0\n",
       "playlist_genre       0\n",
       "playlist_subgenre    0\n",
       "dtype: int64"
      ]
     },
     "execution_count": 14,
     "metadata": {},
     "output_type": "execute_result"
    }
   ],
   "source": [
    "df.isna().sum()"
   ]
  },
  {
   "cell_type": "code",
   "execution_count": 15,
   "id": "a44189f6",
   "metadata": {},
   "outputs": [],
   "source": [
    "df.dropna(inplace=True)"
   ]
  },
  {
   "cell_type": "code",
   "execution_count": 16,
   "id": "e8868fff",
   "metadata": {},
   "outputs": [],
   "source": [
    "df.drop_duplicates(inplace=True)"
   ]
  },
  {
   "cell_type": "code",
   "execution_count": 17,
   "id": "d493943e",
   "metadata": {},
   "outputs": [
    {
     "data": {
      "text/plain": [
       "0"
      ]
     },
     "execution_count": 17,
     "metadata": {},
     "output_type": "execute_result"
    }
   ],
   "source": [
    "df.duplicated().sum()"
   ]
  },
  {
   "cell_type": "code",
   "execution_count": 18,
   "id": "6dd8e2e9",
   "metadata": {},
   "outputs": [],
   "source": [
    "df['track_artist'] = df['track_artist'].apply(lambda x:x.replace(\" \",\"\").lower())"
   ]
  },
  {
   "cell_type": "code",
   "execution_count": 19,
   "id": "b885f72f",
   "metadata": {},
   "outputs": [],
   "source": [
    "df['track_album_name'] = df['track_album_name'].apply(lambda x: sub(\"[^A-Za-z0-9]\",\"\",x).lower())"
   ]
  },
  {
   "cell_type": "code",
   "execution_count": 20,
   "id": "833d1c88",
   "metadata": {},
   "outputs": [],
   "source": [
    "df['playlist_name'] = df['playlist_name'].apply(lambda x:x.replace(\" \",\"\").lower())"
   ]
  },
  {
   "cell_type": "code",
   "execution_count": 21,
   "id": "91082226",
   "metadata": {},
   "outputs": [],
   "source": [
    "df['playlist_subgenre'] = df['playlist_subgenre'].apply(lambda x:x.replace(\" \",\"\").lower())"
   ]
  },
  {
   "cell_type": "code",
   "execution_count": 22,
   "id": "3ec4d0b4",
   "metadata": {},
   "outputs": [],
   "source": [
    "df[\"Summary\"]=df[\"track_artist\"]+\" \"+df[\"track_album_name\"]+ \" \"+ df[\"playlist_name\"]+ \" \"+ df[\"playlist_genre\"]+ \" \"+ df[\"playlist_subgenre\"]"
   ]
  },
  {
   "cell_type": "code",
   "execution_count": 23,
   "id": "4dfbac77",
   "metadata": {},
   "outputs": [],
   "source": [
    "new_df = df[[\"track_id\",'track_album_id','playlist_id',\"track_name\",\"Summary\"]]"
   ]
  },
  {
   "cell_type": "code",
   "execution_count": 24,
   "id": "3690d96d",
   "metadata": {},
   "outputs": [],
   "source": [
    "new_df = new_df[0:5000]"
   ]
  },
  {
   "cell_type": "markdown",
   "id": "ebb99f69",
   "metadata": {},
   "source": [
    "# Vectorization of Data"
   ]
  },
  {
   "cell_type": "code",
   "execution_count": 25,
   "id": "34e61ec8",
   "metadata": {},
   "outputs": [],
   "source": [
    "from sklearn.feature_extraction.text import CountVectorizer"
   ]
  },
  {
   "cell_type": "code",
   "execution_count": 26,
   "id": "2dedb1d6",
   "metadata": {},
   "outputs": [],
   "source": [
    "cv = CountVectorizer(max_features=5000)"
   ]
  },
  {
   "cell_type": "code",
   "execution_count": 27,
   "id": "89dc1afd",
   "metadata": {},
   "outputs": [],
   "source": [
    "vector = cv.fit_transform(new_df[\"Summary\"]).toarray()"
   ]
  },
  {
   "cell_type": "markdown",
   "id": "ddca08dd",
   "metadata": {},
   "source": [
    "# Model (Find the Consine distance of each vector)"
   ]
  },
  {
   "cell_type": "code",
   "execution_count": 28,
   "id": "5f75aed3",
   "metadata": {},
   "outputs": [],
   "source": [
    "from sklearn.metrics.pairwise import cosine_similarity"
   ]
  },
  {
   "cell_type": "code",
   "execution_count": 29,
   "id": "2d58ecb2",
   "metadata": {},
   "outputs": [],
   "source": [
    "similarity = cosine_similarity(vector)"
   ]
  },
  {
   "cell_type": "code",
   "execution_count": 30,
   "id": "ffaa2ddf",
   "metadata": {},
   "outputs": [
    {
     "data": {
      "text/plain": [
       "(5000, 5000)"
      ]
     },
     "execution_count": 30,
     "metadata": {},
     "output_type": "execute_result"
    }
   ],
   "source": [
    "similarity.shape"
   ]
  },
  {
   "cell_type": "code",
   "execution_count": 32,
   "id": "54948cb2",
   "metadata": {},
   "outputs": [
    {
     "data": {
      "text/plain": [
       "(5000, 5000)"
      ]
     },
     "execution_count": 32,
     "metadata": {},
     "output_type": "execute_result"
    }
   ],
   "source": [
    "similarity.shape"
   ]
  },
  {
   "cell_type": "code",
   "execution_count": 31,
   "id": "b308e6ad",
   "metadata": {},
   "outputs": [],
   "source": [
    "# sorted(list(enumerate(similarity[2])),reverse=True,key=lambda x:x[1])[1:10]"
   ]
  },
  {
   "cell_type": "markdown",
   "id": "3874d830",
   "metadata": {},
   "source": [
    "# Function to Recommended Song"
   ]
  },
  {
   "cell_type": "code",
   "execution_count": 33,
   "id": "dbd45537",
   "metadata": {},
   "outputs": [],
   "source": [
    "def recom_song(song):\n",
    "    song_ind = new_df[new_df.track_name==song].index[0]\n",
    "    song_sim = similarity[song_ind]\n",
    "    song_list = sorted(list(enumerate(song_sim)),reverse=True,key=lambda x:x[1])[1:10]\n",
    "    for i in song_list:\n",
    "        print(new_df.iloc[i[0]].track_name,new_df.iloc[i[0]].track_id,new_df.iloc[i[0]].track_album_id,new_df.iloc[i[0]].playlist_id)\n",
    "#         print(i[0])"
   ]
  },
  {
   "cell_type": "markdown",
   "id": "8a3aa13f",
   "metadata": {},
   "source": [
    "# Output"
   ]
  },
  {
   "cell_type": "code",
   "execution_count": 34,
   "id": "dfa4d61d",
   "metadata": {},
   "outputs": [
    {
     "name": "stdout",
     "output_type": "stream",
     "text": [
      "Skin - Keyser Remix 7IEi3VrMGDo4w8K2J9bk8h 1wIulqnyZchR6ZUzsLoLav 6lWMi4lPiiPwDqn8ZpeyAY\n",
      "Skin 2PJi7VnApEZZC0xaEM6YDO 0jCkVYYe1RTkhG99MG2YFM 6lWMi4lPiiPwDqn8ZpeyAY\n",
      "Sacrifice 3feET0c3SdUNzA7rJUehb4 4uTMXIn8Tt2L4l5yApUfcd 6lWMi4lPiiPwDqn8ZpeyAY\n",
      "Mother 6rVNnvyNeibts1uOqdSNIw 5OrSjlgjIvI3GmTnTt6wnT 6lWMi4lPiiPwDqn8ZpeyAY\n",
      "Started Out 4xh4WZodJ7NpFi7zKgiW3q 3smjzkckMItsYa8NzmB1NV 6lWMi4lPiiPwDqn8ZpeyAY\n",
      "I'm In Control 6SLTPbDxDYR0uSMTT7gSb7 6KuHbuDiJNcgEvnLTnfQcY 6lWMi4lPiiPwDqn8ZpeyAY\n",
      "Move Me 44Yrt6xIUdcooTbDh57hrF 1ZSeYdT43ki4VbcGnuu27B 6lWMi4lPiiPwDqn8ZpeyAY\n",
      "Only In My Dreams 3hmvIloDMQzh90YEz57Ewr 2A9uODlZ1x1tNVvMb9SMqo 6lWMi4lPiiPwDqn8ZpeyAY\n",
      "What Happened? 3rYkfYT0aZ2pM8gzH27LSg 1qtfGi2ELKvLs0MNJOQpfw 6lWMi4lPiiPwDqn8ZpeyAY\n"
     ]
    }
   ],
   "source": [
    "recom_song('Spark')"
   ]
  },
  {
   "cell_type": "markdown",
   "id": "e3f2de66",
   "metadata": {},
   "source": [
    "# Export Model using Pickle"
   ]
  },
  {
   "cell_type": "code",
   "execution_count": 130,
   "id": "e3c01aa7",
   "metadata": {},
   "outputs": [],
   "source": [
    "import pickle"
   ]
  },
  {
   "cell_type": "code",
   "execution_count": 35,
   "id": "3ae0e374",
   "metadata": {},
   "outputs": [],
   "source": [
    "new_df.track_name = new_df.track_name.apply(lambda x:sub(\"[^A-Za-z0-9 ]\",\"\",x))"
   ]
  },
  {
   "cell_type": "code",
   "execution_count": 131,
   "id": "d39203f9",
   "metadata": {},
   "outputs": [],
   "source": [
    "pickle.dump(new_df,open('D:Flask_APP/Spotify Recommendation System/dataset.pkl','wb'))"
   ]
  },
  {
   "cell_type": "code",
   "execution_count": 132,
   "id": "0cf7523f",
   "metadata": {},
   "outputs": [],
   "source": [
    "pickle.dump(similarity,open('D:Flask_APP/Spotify Recommendation System/model.pkl','wb'))"
   ]
  },
  {
   "cell_type": "markdown",
   "id": "92ffdf79",
   "metadata": {},
   "source": [
    "# Testing Using Api"
   ]
  },
  {
   "cell_type": "code",
   "execution_count": 128,
   "id": "3c2e384d",
   "metadata": {},
   "outputs": [],
   "source": [
    "import requests\n",
    "\n",
    "url = \"https://spotify23.p.rapidapi.com/tracks/\"\n",
    "\n",
    "querystring = {\"ids\":\"4n7jnSxVLd8QioibtTDBDq\"}\n",
    "\n",
    "headers = {\n",
    "\"X-RapidAPI-Key\": \"Enter Your Rapid Api Id\",\n",
    "\"X-RapidAPI-Host\": \"spotify23.p.rapidapi.com\"\n",
    "}\n",
    "\n",
    "response = requests.request(\"GET\", url, headers=headers, params=querystring)\n",
    "val = []\n",
    "val.append(response.text)"
   ]
  },
  {
   "cell_type": "markdown",
   "id": "a0057417",
   "metadata": {},
   "source": [
    "# Function to fetch Image and Song preview using track_id"
   ]
  },
  {
   "cell_type": "code",
   "execution_count": 121,
   "id": "cce0773a",
   "metadata": {},
   "outputs": [],
   "source": [
    "def get_song_details(ids):\n",
    "    url = \"https://spotify23.p.rapidapi.com/tracks/\"\n",
    "    querystring = {\"ids\":ids}\n",
    "    response = requests.request(\"GET\", url, headers=headers, params=querystring)\n",
    "    val = []\n",
    "    val.append(response.text)\n",
    "    \n",
    "    data = []\n",
    "    for i in val:\n",
    "        dk = sub(\"[^A-Za-z0-9-?=:_,./ ]\",\"\",i)\n",
    "        for j in dk.split(\",\"):\n",
    "            data.append(j)\n",
    "    name=[]\n",
    "    url = []\n",
    "    prev_url = []\n",
    "    listen_song = []\n",
    "    track_id = []\n",
    "    for i in data:\n",
    "        if \"name\" in str(i):\n",
    "            name.append(i)\n",
    "\n",
    "        if \"url:\" in str(i):\n",
    "            url.append(i.replace(\"url:\",\"\"))\n",
    "\n",
    "        if \"preview_url:\" in str(i):\n",
    "            prev_url.append(i.replace(\"preview_url:\",\"\"))\n",
    "            \n",
    "        if \"uri:spotify:track\" in str(i):\n",
    "            listen_song.append(i.replace(\"uri:\",\"\"))\n",
    "            \n",
    "        if \"id:\" in str(i):\n",
    "            track_id.append(i.replace(\"id:\",\"\"))\n",
    "\n",
    "    return url[0],prev_url[0],name[-1],track_id[-1]\n",
    "    "
   ]
  },
  {
   "cell_type": "code",
   "execution_count": 133,
   "id": "599a45bb",
   "metadata": {},
   "outputs": [],
   "source": [
    "# get_song_details(\"1z1Hg7Vb0AhHDiEmnDE79l\")"
   ]
  },
  {
   "cell_type": "code",
   "execution_count": 134,
   "id": "cb8e4b70",
   "metadata": {},
   "outputs": [],
   "source": [
    "# r = new_df.track_id[0:5].values"
   ]
  },
  {
   "cell_type": "code",
   "execution_count": 135,
   "id": "741b55ba",
   "metadata": {},
   "outputs": [],
   "source": [
    "# dsk = []\n",
    "# for i in r:\n",
    "#     dsk.append(get_song_details(i))"
   ]
  },
  {
   "cell_type": "code",
   "execution_count": 136,
   "id": "a6e18e1f",
   "metadata": {},
   "outputs": [],
   "source": [
    "# for i in dsk:\n",
    "#     print(i)"
   ]
  },
  {
   "cell_type": "code",
   "execution_count": 137,
   "id": "21d1cb19",
   "metadata": {},
   "outputs": [],
   "source": [
    "# dsk[1]"
   ]
  },
  {
   "cell_type": "code",
   "execution_count": 138,
   "id": "a0712d7e",
   "metadata": {},
   "outputs": [],
   "source": [
    "# data"
   ]
  },
  {
   "cell_type": "code",
   "execution_count": 67,
   "id": "c4ea85ac",
   "metadata": {},
   "outputs": [],
   "source": [
    "# data = []\n",
    "# for i in val:\n",
    "#     dk = sub(\"[^A-Za-z0-9-?=:_,./ ]\",\"\",i)\n",
    "#     for j in dk.split(\",\"):\n",
    "#         data.append(j)"
   ]
  },
  {
   "cell_type": "code",
   "execution_count": 139,
   "id": "0378b561",
   "metadata": {},
   "outputs": [],
   "source": [
    "# val"
   ]
  },
  {
   "cell_type": "code",
   "execution_count": 140,
   "id": "578bf24e",
   "metadata": {},
   "outputs": [],
   "source": [
    "name=[]\n",
    "url = []\n",
    "prev_url = []\n",
    "listen_song = []\n",
    "track_id = []\n",
    "for i in data:\n",
    "    if \"name\" in str(i):\n",
    "        name.append(i)\n",
    "        \n",
    "    if \"url:\" in str(i):\n",
    "        url.append(i.replace(\"url:\",\"\"))\n",
    "    \n",
    "    if \"preview_url:\" in str(i):\n",
    "        prev_url.append(i.replace(\"preview_url:\",\"\"))\n",
    "        \n",
    "    if \"uri:spotify:track\" in str(i):\n",
    "        listen_song.append(i.replace(\"uri:\",\"\"))\n",
    "    \n",
    "    if \"id:\" in str(i):\n",
    "        track_id.append(i.replace(\"id:\",\"\"))\n",
    "\n",
    "\n",
    "#         url.append(i.replace(\"preview_url:\",\"\"))\n",
    "#         url.append(i.replace(\"url:\",\"\"))\n",
    "#     if \"artists:external_urls\" in str(i):\n",
    "#         print(i.replace(\"artists:external_urls:spotify:\",\"\"))\n",
    "        \n"
   ]
  },
  {
   "cell_type": "code",
   "execution_count": 141,
   "id": "2bb5f680",
   "metadata": {},
   "outputs": [],
   "source": [
    "# track_id[-1]"
   ]
  },
  {
   "cell_type": "code",
   "execution_count": 142,
   "id": "94e1333f",
   "metadata": {},
   "outputs": [],
   "source": [
    "# \"artists:external_urls:spotify:https://open.spotify.com/artist/04gDigrS5kc9YWfZHwBETP\n",
    "# \"artists:external_urls:spotify:https://open.spotify.com/artist/04gDigrS5kc9YWfZHwBETP\""
   ]
  },
  {
   "cell_type": "code",
   "execution_count": 143,
   "id": "884b028b",
   "metadata": {},
   "outputs": [],
   "source": [
    "# url[-1]"
   ]
  },
  {
   "cell_type": "code",
   "execution_count": 144,
   "id": "157caaf7",
   "metadata": {},
   "outputs": [],
   "source": [
    "# data"
   ]
  },
  {
   "cell_type": "code",
   "execution_count": 127,
   "id": "d688eae7",
   "metadata": {},
   "outputs": [
    {
     "data": {
      "text/html": [
       "<div>\n",
       "<style scoped>\n",
       "    .dataframe tbody tr th:only-of-type {\n",
       "        vertical-align: middle;\n",
       "    }\n",
       "\n",
       "    .dataframe tbody tr th {\n",
       "        vertical-align: top;\n",
       "    }\n",
       "\n",
       "    .dataframe thead th {\n",
       "        text-align: right;\n",
       "    }\n",
       "</style>\n",
       "<table border=\"1\" class=\"dataframe\">\n",
       "  <thead>\n",
       "    <tr style=\"text-align: right;\">\n",
       "      <th></th>\n",
       "      <th>track_id</th>\n",
       "    </tr>\n",
       "  </thead>\n",
       "  <tbody>\n",
       "    <tr>\n",
       "      <th>574</th>\n",
       "      <td>4n7jnSxVLd8QioibtTDBDq</td>\n",
       "    </tr>\n",
       "  </tbody>\n",
       "</table>\n",
       "</div>"
      ],
      "text/plain": [
       "                   track_id\n",
       "574  4n7jnSxVLd8QioibtTDBDq"
      ]
     },
     "execution_count": 127,
     "metadata": {},
     "output_type": "execute_result"
    }
   ],
   "source": [
    "new_df[new_df.track_name==\"On My Way\"][[\"track_id\"]]"
   ]
  },
  {
   "cell_type": "code",
   "execution_count": null,
   "id": "4070d6c1",
   "metadata": {},
   "outputs": [],
   "source": []
  },
  {
   "cell_type": "code",
   "execution_count": null,
   "id": "48aa3380",
   "metadata": {},
   "outputs": [],
   "source": []
  },
  {
   "cell_type": "code",
   "execution_count": null,
   "id": "b4f574e9",
   "metadata": {},
   "outputs": [],
   "source": []
  }
 ],
 "metadata": {
  "kernelspec": {
   "display_name": "Python 3 (ipykernel)",
   "language": "python",
   "name": "python3"
  },
  "language_info": {
   "codemirror_mode": {
    "name": "ipython",
    "version": 3
   },
   "file_extension": ".py",
   "mimetype": "text/x-python",
   "name": "python",
   "nbconvert_exporter": "python",
   "pygments_lexer": "ipython3",
   "version": "3.10.5"
  }
 },
 "nbformat": 4,
 "nbformat_minor": 5
}
