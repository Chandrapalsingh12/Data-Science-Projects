{
 "cells": [
  {
   "cell_type": "markdown",
   "id": "2ce094bd",
   "metadata": {},
   "source": [
    "# Text Processing"
   ]
  },
  {
   "cell_type": "code",
   "execution_count": 1,
   "id": "3001c50e",
   "metadata": {},
   "outputs": [],
   "source": [
    "import pandas as pd\n",
    "import os\n",
    "from warnings import filterwarnings\n",
    "filterwarnings(\"ignore\")\n",
    "os.chdir(\"E:/Data Science/DataSet/\")"
   ]
  },
  {
   "cell_type": "code",
   "execution_count": 2,
   "id": "034b9d2f",
   "metadata": {},
   "outputs": [],
   "source": [
    "A = pd.read_csv(\"Restaurant_Reviews.tsv\",sep=\"\\t\")"
   ]
  },
  {
   "cell_type": "code",
   "execution_count": 3,
   "id": "31ff6362",
   "metadata": {},
   "outputs": [
    {
     "data": {
      "text/html": [
       "<div>\n",
       "<style scoped>\n",
       "    .dataframe tbody tr th:only-of-type {\n",
       "        vertical-align: middle;\n",
       "    }\n",
       "\n",
       "    .dataframe tbody tr th {\n",
       "        vertical-align: top;\n",
       "    }\n",
       "\n",
       "    .dataframe thead th {\n",
       "        text-align: right;\n",
       "    }\n",
       "</style>\n",
       "<table border=\"1\" class=\"dataframe\">\n",
       "  <thead>\n",
       "    <tr style=\"text-align: right;\">\n",
       "      <th></th>\n",
       "      <th>Review</th>\n",
       "      <th>Liked</th>\n",
       "    </tr>\n",
       "  </thead>\n",
       "  <tbody>\n",
       "    <tr>\n",
       "      <th>0</th>\n",
       "      <td>Wow... Loved this place.</td>\n",
       "      <td>1</td>\n",
       "    </tr>\n",
       "    <tr>\n",
       "      <th>1</th>\n",
       "      <td>Crust is not good.</td>\n",
       "      <td>0</td>\n",
       "    </tr>\n",
       "    <tr>\n",
       "      <th>2</th>\n",
       "      <td>Not tasty and the texture was just nasty.</td>\n",
       "      <td>0</td>\n",
       "    </tr>\n",
       "    <tr>\n",
       "      <th>3</th>\n",
       "      <td>Stopped by during the late May bank holiday of...</td>\n",
       "      <td>1</td>\n",
       "    </tr>\n",
       "    <tr>\n",
       "      <th>4</th>\n",
       "      <td>The selection on the menu was great and so wer...</td>\n",
       "      <td>1</td>\n",
       "    </tr>\n",
       "  </tbody>\n",
       "</table>\n",
       "</div>"
      ],
      "text/plain": [
       "                                              Review  Liked\n",
       "0                           Wow... Loved this place.      1\n",
       "1                                 Crust is not good.      0\n",
       "2          Not tasty and the texture was just nasty.      0\n",
       "3  Stopped by during the late May bank holiday of...      1\n",
       "4  The selection on the menu was great and so wer...      1"
      ]
     },
     "execution_count": 3,
     "metadata": {},
     "output_type": "execute_result"
    }
   ],
   "source": [
    "A.head()"
   ]
  },
  {
   "cell_type": "code",
   "execution_count": 4,
   "id": "4601ee1d",
   "metadata": {},
   "outputs": [],
   "source": [
    "from re import sub"
   ]
  },
  {
   "cell_type": "code",
   "execution_count": 5,
   "id": "50ff4dbf",
   "metadata": {},
   "outputs": [],
   "source": [
    "def Wordsep(df):\n",
    "    q = []\n",
    "    for i in df:\n",
    "        text = sub(\"[^A-Za-z0-9 ]\",\"\",i.lower())\n",
    "        q.append(text)\n",
    "    return q\n",
    "        \n",
    "    "
   ]
  },
  {
   "cell_type": "code",
   "execution_count": 6,
   "id": "00454b36",
   "metadata": {},
   "outputs": [],
   "source": [
    "q = Wordsep(A.Review)"
   ]
  },
  {
   "cell_type": "code",
   "execution_count": 7,
   "id": "106525db",
   "metadata": {},
   "outputs": [],
   "source": [
    "from sklearn.feature_extraction.text import CountVectorizer\n",
    "cv = CountVectorizer()\n",
    "X = cv.fit_transform(q).toarray()"
   ]
  },
  {
   "cell_type": "code",
   "execution_count": 18,
   "id": "013e262e",
   "metadata": {},
   "outputs": [],
   "source": [
    "Y = A.Liked"
   ]
  },
  {
   "cell_type": "code",
   "execution_count": 20,
   "id": "b65d17c9",
   "metadata": {},
   "outputs": [],
   "source": [
    "from sklearn.model_selection import train_test_split\n",
    "xtrain,xtest,ytrain,ytest = train_test_split(X,Y,test_size=0.2,random_state=2)"
   ]
  },
  {
   "cell_type": "code",
   "execution_count": 82,
   "id": "777ede80",
   "metadata": {},
   "outputs": [],
   "source": [
    "from sklearn.ensemble import AdaBoostClassifier\n",
    "from sklearn.tree import DecisionTreeClassifier\n",
    "dtc = DecisionTreeClassifier(random_state=5)\n",
    "adb = AdaBoostClassifier(dtc,n_estimators=80)\n",
    "model1 = adb.fit(xtrain,ytrain)"
   ]
  },
  {
   "cell_type": "code",
   "execution_count": 81,
   "id": "f20facca",
   "metadata": {},
   "outputs": [
    {
     "name": "stdout",
     "output_type": "stream",
     "text": [
      "1.0 0.795\n"
     ]
    }
   ],
   "source": [
    "pred_tr = model1.predict(xtrain)\n",
    "pred_ts = model1.predict(xtest)\n",
    "from sklearn.metrics import accuracy_score,confusion_matrix\n",
    "tr_acc = accuracy_score(ytrain,pred_tr)\n",
    "ts_acc = accuracy_score(ytest,pred_ts)\n",
    "print(tr_acc,ts_acc)"
   ]
  },
  {
   "cell_type": "code",
   "execution_count": 74,
   "id": "0b6bffa2",
   "metadata": {},
   "outputs": [
    {
     "name": "stdout",
     "output_type": "stream",
     "text": [
      "Enter Reviewthe varieties are good but the quality needs improvement location is good and open through out the day. reasonable chain\n",
      "1\n"
     ]
    }
   ],
   "source": [
    "inp = input(\"Enter Review\")\n",
    "riv = sub(\"[^a-zA-z ]\",\"\",inp.lower())\n",
    "final_val = cv.transform([riv]).toarray()\n",
    "e = model1.predict(final_val)[0]\n",
    "print(e)"
   ]
  },
  {
   "cell_type": "code",
   "execution_count": null,
   "id": "54514060",
   "metadata": {},
   "outputs": [],
   "source": []
  },
  {
   "cell_type": "code",
   "execution_count": null,
   "id": "10ed7dcc",
   "metadata": {},
   "outputs": [],
   "source": []
  },
  {
   "cell_type": "markdown",
   "id": "73934231",
   "metadata": {},
   "source": [
    "# Using NN Model"
   ]
  },
  {
   "cell_type": "code",
   "execution_count": 32,
   "id": "871c4a0e",
   "metadata": {},
   "outputs": [],
   "source": [
    "from keras.models import Sequential\n",
    "from keras.layers import Dense,Dropout"
   ]
  },
  {
   "cell_type": "code",
   "execution_count": 33,
   "id": "d9ffa060",
   "metadata": {},
   "outputs": [],
   "source": [
    "nn = Sequential()"
   ]
  },
  {
   "cell_type": "code",
   "execution_count": 40,
   "id": "58181a4a",
   "metadata": {},
   "outputs": [
    {
     "name": "stdout",
     "output_type": "stream",
     "text": [
      "Epoch 1/10\n",
      "20/20 [==============================] - 2s 23ms/step - loss: 0.5489 - accuracy: 0.8891 - val_loss: 0.5592 - val_accuracy: 0.7812\n",
      "Epoch 2/10\n",
      "20/20 [==============================] - 0s 13ms/step - loss: 0.3411 - accuracy: 0.9984 - val_loss: 0.5318 - val_accuracy: 0.7750\n",
      "Epoch 3/10\n",
      "20/20 [==============================] - 0s 13ms/step - loss: 0.1861 - accuracy: 1.0000 - val_loss: 0.5496 - val_accuracy: 0.7875\n",
      "Epoch 4/10\n",
      "20/20 [==============================] - 0s 11ms/step - loss: 0.0896 - accuracy: 1.0000 - val_loss: 0.6502 - val_accuracy: 0.7875\n",
      "Epoch 5/10\n",
      "20/20 [==============================] - 0s 13ms/step - loss: 0.0396 - accuracy: 1.0000 - val_loss: 0.8000 - val_accuracy: 0.7875\n",
      "Epoch 6/10\n",
      "20/20 [==============================] - 0s 12ms/step - loss: 0.0167 - accuracy: 1.0000 - val_loss: 0.9658 - val_accuracy: 0.7875\n",
      "Epoch 7/10\n",
      "20/20 [==============================] - 0s 15ms/step - loss: 0.0069 - accuracy: 1.0000 - val_loss: 1.1493 - val_accuracy: 0.7875\n",
      "Epoch 8/10\n",
      "20/20 [==============================] - 0s 13ms/step - loss: 0.0029 - accuracy: 1.0000 - val_loss: 1.3281 - val_accuracy: 0.7875\n",
      "Epoch 9/10\n",
      "20/20 [==============================] - 0s 13ms/step - loss: 0.0012 - accuracy: 1.0000 - val_loss: 1.5089 - val_accuracy: 0.7875\n",
      "Epoch 10/10\n",
      "20/20 [==============================] - 0s 15ms/step - loss: 5.0744e-04 - accuracy: 1.0000 - val_loss: 1.6887 - val_accuracy: 0.7875\n"
     ]
    }
   ],
   "source": [
    "nn.add(Dense(100,input_dim=xtrain.shape[1]))\n",
    "nn.add(Dense(100, activation=\"sigmoid\"))\n",
    "nn.add(Dense(1, activation=\"sigmoid\"))\n",
    "nn.compile(loss=\"binary_crossentropy\",metrics=[\"accuracy\"])\n",
    "model = nn.fit(xtrain,ytrain,validation_split=0.2,epochs=10,validation_batch_size=20)"
   ]
  },
  {
   "cell_type": "code",
   "execution_count": 73,
   "id": "7ef9bced",
   "metadata": {},
   "outputs": [
    {
     "name": "stdout",
     "output_type": "stream",
     "text": [
      "Enter Reviewthe varieties are good but the quality needs improvement location is good and open through out the day. reasonable chain\n",
      "1/1 [==============================] - 0s 23ms/step\n",
      "[0.9996523]\n"
     ]
    }
   ],
   "source": [
    "inp = input(\"Enter Review\")\n",
    "riv = sub(\"[^a-zA-z ]\",\"\",inp.lower())\n",
    "final_val = cv.transform([riv]).toarray()\n",
    "e = nn.predict(final_val)[0]\n",
    "print(e)"
   ]
  },
  {
   "cell_type": "code",
   "execution_count": null,
   "id": "7c059782",
   "metadata": {},
   "outputs": [],
   "source": []
  }
 ],
 "metadata": {
  "kernelspec": {
   "display_name": "Python 3 (ipykernel)",
   "language": "python",
   "name": "python3"
  },
  "language_info": {
   "codemirror_mode": {
    "name": "ipython",
    "version": 3
   },
   "file_extension": ".py",
   "mimetype": "text/x-python",
   "name": "python",
   "nbconvert_exporter": "python",
   "pygments_lexer": "ipython3",
   "version": "3.10.5"
  }
 },
 "nbformat": 4,
 "nbformat_minor": 5
}
